{
 "cells": [
  {
   "cell_type": "markdown",
   "metadata": {},
   "source": [
    "# Tutorial for multithreading\n",
    "\n",
    "This will be a very basic tutorial to multithreading to allow you to better use the ressources at your disposition and make use of all your available system threads."
   ]
  },
  {
   "cell_type": "markdown",
   "metadata": {},
   "source": [
    "# Simple example\n",
    "\n",
    "For this example the only library you are going to need to install is joblib. All the other libraries we will be using are in the base python package."
   ]
  },
  {
   "cell_type": "code",
   "execution_count": 1,
   "metadata": {},
   "outputs": [],
   "source": [
    "from joblib import Parallel, delayed # For multithreading\n",
    "from time import time, sleep # to be able to measure computation time and to showcase the usefullness of multithreading"
   ]
  },
  {
   "cell_type": "markdown",
   "metadata": {},
   "source": [
    "We will use the sleep function as a placeholder function that would take 0.5s (500ms) time to complete.\n",
    "Let's create a typical very usefull function for researchers:"
   ]
  },
  {
   "cell_type": "code",
   "execution_count": 2,
   "metadata": {},
   "outputs": [],
   "source": [
    "def waiting_and_printing(stuff):\n",
    "    print(stuff)\n",
    "    sleep(0.5)"
   ]
  },
  {
   "cell_type": "markdown",
   "metadata": {},
   "source": [
    "Now let's use it !"
   ]
  },
  {
   "cell_type": "code",
   "execution_count": 3,
   "metadata": {},
   "outputs": [
    {
     "name": "stdout",
     "output_type": "stream",
     "text": [
      "This is a normal loop\n",
      "Wow\n",
      "a\n",
      "very\n",
      "interresting\n",
      "function\n",
      "is\n",
      "printing\n",
      "this\n",
      "very\n",
      "important\n",
      "message\n",
      "This loop took 5.508855819702148 seconds to complete\n"
     ]
    }
   ],
   "source": [
    "stuff_to_print = ['Wow', 'a', 'very', 'interresting', 'function', 'is', 'printing', 'this', 'very', 'important', 'message']\n",
    "\n",
    "start_time = time()\n",
    "print(\"This is a normal loop\")\n",
    "\n",
    "for stuff in stuff_to_print:\n",
    "    waiting_and_printing(stuff)\n",
    "end_time = time()\n",
    "\n",
    "print(\"This loop took %s seconds to complete\" % (end_time - start_time))"
   ]
  },
  {
   "cell_type": "markdown",
   "metadata": {},
   "source": [
    "With a normal loop our placeholder function made our _script_ execute in more than 5s which is way too long, ain't nobody got time for that.  \n",
    "\n",
    "Let's see how the use of joblib can make it faster."
   ]
  },
  {
   "cell_type": "code",
   "execution_count": 4,
   "metadata": {
    "scrolled": true
   },
   "outputs": [
    {
     "name": "stdout",
     "output_type": "stream",
     "text": [
      "This is a parallel loop\n",
      "This loop took 1.812845230102539 seconds to complete\n"
     ]
    }
   ],
   "source": [
    "start_time = time()\n",
    "print(\"This is a parallel loop\")\n",
    "\n",
    "Parallel(n_jobs=-1)(delayed(waiting_and_printing)(stuff) for stuff in stuff_to_print)\n",
    "end_time = time()\n",
    "\n",
    "print(\"This loop took %s seconds to complete\" % (end_time - start_time))"
   ]
  },
  {
   "cell_type": "markdown",
   "metadata": {},
   "source": [
    "This is much better ! And i spent way less time waiting for non significant results ! But what happend !? where are all my mighty prints !?\n",
    "\n",
    "Sadly jupyter notebook does not display parallel prints (but if you ran jupyter from a terminal, the prints should be there. In general joblib is poorly handled by jupyter notebook and you will sometimes get errors that you will not get by running a script).\n",
    "\n",
    "But worry not, traveler, your journey does not end here ! To take advantage of the new skills you acquired, you can start learning how to use calcul Canada/calcul Quebec.  \n",
    "Yes, traveler, there is more to learn. Grab the __[template](https://github.com/arthurdehgan/calQ_examples/parallel_template.py)__ and click __[here](https://github.com/arthurdehgan/calQ_examples)__ to be taken to new adventures!  "
   ]
  }
 ],
 "metadata": {
  "kernelspec": {
   "display_name": "Python 3",
   "language": "python",
   "name": "python3"
  },
  "language_info": {
   "codemirror_mode": {
    "name": "ipython",
    "version": 3
   },
   "file_extension": ".py",
   "mimetype": "text/x-python",
   "name": "python",
   "nbconvert_exporter": "python",
   "pygments_lexer": "ipython3",
   "version": "3.7.1"
  }
 },
 "nbformat": 4,
 "nbformat_minor": 2
}
